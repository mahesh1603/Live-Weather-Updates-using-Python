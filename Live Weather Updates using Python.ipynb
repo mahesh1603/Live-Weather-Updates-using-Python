{
 "cells": [
  {
   "cell_type": "markdown",
   "id": "41066473",
   "metadata": {},
   "source": [
    "# Get Live Weather Updates using Python"
   ]
  },
  {
   "cell_type": "markdown",
   "id": "70325fbb",
   "metadata": {},
   "source": [
    "To get the live weather conditions of any city using Python, you first have to install the BeautifulSoup library in Python."
   ]
  },
  {
   "cell_type": "markdown",
   "id": "7d8f7bd8",
   "metadata": {},
   "source": [
    "### pip install beautifulsoup4"
   ]
  },
  {
   "cell_type": "code",
   "execution_count": 14,
   "id": "86e2071e",
   "metadata": {},
   "outputs": [],
   "source": [
    "from bs4 import BeautifulSoup\n",
    "import requests"
   ]
  },
  {
   "cell_type": "code",
   "execution_count": 15,
   "id": "a73eb175",
   "metadata": {},
   "outputs": [],
   "source": [
    "headers = {'User-Agent': \n",
    "           'Mozilla/5.0 (Windows NT 10.0; Win64; x64) AppleWebKit/537.36 (KHTML, like Gecko) Chrome/58.0.3029.110 Safari/537.3'}\n"
   ]
  },
  {
   "cell_type": "code",
   "execution_count": 16,
   "id": "533e86a8",
   "metadata": {},
   "outputs": [],
   "source": [
    "def weather(city):\n",
    "    city=city.replace(\" \",\"+\")\n",
    "    res = requests.get(f'https://www.google.com/search?q={city}&oq={city}&aqs=chrome.0.35i39l2j0l4j46j69i60.6128j1j7&sourceid=chrome&ie=UTF-8',headers=headers)\n",
    "    print(\"Searching......\\n\")\n",
    "    soup = BeautifulSoup(res.text,'html.parser')   \n",
    "    location = soup.select('#wob_loc')[0].getText().strip()  \n",
    "    time = soup.select('#wob_dts')[0].getText().strip()       \n",
    "    info = soup.select('#wob_dc')[0].getText().strip() \n",
    "    weather = soup.select('#wob_tm')[0].getText().strip()\n",
    "    print(location)\n",
    "    print(time)\n",
    "    print(info)\n",
    "    print(weather+\"°C\") "
   ]
  },
  {
   "cell_type": "code",
   "execution_count": 17,
   "id": "af096809",
   "metadata": {},
   "outputs": [
    {
     "name": "stdout",
     "output_type": "stream",
     "text": [
      "Enter the Name of Any City >>  Hyderabad\n",
      "Searching......\n",
      "\n",
      "Weather\n",
      "Thursday, 10:00 am\n",
      "Mostly Sunny\n",
      "31°C\n"
     ]
    }
   ],
   "source": [
    "city=input(\"Enter the Name of Any City >>  \")\n",
    "city=city+\" weather\"\n",
    "weather(city)"
   ]
  },
  {
   "cell_type": "code",
   "execution_count": null,
   "id": "ffb130fb",
   "metadata": {},
   "outputs": [],
   "source": []
  }
 ],
 "metadata": {
  "kernelspec": {
   "display_name": "Python 3 (ipykernel)",
   "language": "python",
   "name": "python3"
  },
  "language_info": {
   "codemirror_mode": {
    "name": "ipython",
    "version": 3
   },
   "file_extension": ".py",
   "mimetype": "text/x-python",
   "name": "python",
   "nbconvert_exporter": "python",
   "pygments_lexer": "ipython3",
   "version": "3.9.13"
  }
 },
 "nbformat": 4,
 "nbformat_minor": 5
}
